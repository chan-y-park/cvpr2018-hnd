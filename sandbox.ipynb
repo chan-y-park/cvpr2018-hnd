{
 "cells": [
  {
   "cell_type": "code",
   "execution_count": null,
   "metadata": {
    "ExecuteTime": {
     "end_time": "2018-11-15T19:28:48.259194Z",
     "start_time": "2018-11-15T19:28:48.218579Z"
    }
   },
   "outputs": [],
   "source": [
    "import numpy as np"
   ]
  },
  {
   "cell_type": "code",
   "execution_count": null,
   "metadata": {
    "ExecuteTime": {
     "end_time": "2018-11-15T19:28:48.523012Z",
     "start_time": "2018-11-15T19:28:48.417981Z"
    }
   },
   "outputs": [],
   "source": [
    "imagenet_taxonomy = np.load('/home/chan/git-repos/cvpr2018-hnd/taxonomy/ImageNet/taxonomy.npy').item()"
   ]
  },
  {
   "cell_type": "code",
   "execution_count": null,
   "metadata": {
    "ExecuteTime": {
     "end_time": "2018-11-15T19:28:48.633119Z",
     "start_time": "2018-11-15T19:28:48.608662Z"
    }
   },
   "outputs": [],
   "source": [
    "imagenet_taxonomy.keys()"
   ]
  },
  {
   "cell_type": "code",
   "execution_count": null,
   "metadata": {
    "ExecuteTime": {
     "end_time": "2018-11-15T19:28:49.142436Z",
     "start_time": "2018-11-15T19:28:48.778456Z"
    }
   },
   "outputs": [],
   "source": [
    "from utils import update_taxonomy"
   ]
  },
  {
   "cell_type": "code",
   "execution_count": null,
   "metadata": {
    "ExecuteTime": {
     "end_time": "2018-11-15T19:28:49.170516Z",
     "start_time": "2018-11-15T19:28:49.143881Z"
    },
    "scrolled": true
   },
   "outputs": [],
   "source": [
    "update_taxonomy('LOO', imagenet_taxonomy)"
   ]
  },
  {
   "cell_type": "code",
   "execution_count": null,
   "metadata": {
    "ExecuteTime": {
     "end_time": "2018-11-15T19:28:56.778382Z",
     "start_time": "2018-11-15T19:28:56.773950Z"
    }
   },
   "outputs": [],
   "source": [
    "relevant = imagenet_taxonomy['relevant']\n",
    "labels_relevant = imagenet_taxonomy['labels_relevant']"
   ]
  },
  {
   "cell_type": "code",
   "execution_count": null,
   "metadata": {
    "ExecuteTime": {
     "end_time": "2018-11-15T19:28:57.350364Z",
     "start_time": "2018-11-15T19:28:57.342988Z"
    }
   },
   "outputs": [],
   "source": [
    "len(relevant)"
   ]
  },
  {
   "cell_type": "code",
   "execution_count": null,
   "metadata": {
    "ExecuteTime": {
     "end_time": "2018-11-15T19:28:58.460600Z",
     "start_time": "2018-11-15T19:28:58.452777Z"
    }
   },
   "outputs": [],
   "source": [
    "relevant[0]"
   ]
  },
  {
   "cell_type": "code",
   "execution_count": null,
   "metadata": {
    "ExecuteTime": {
     "end_time": "2018-11-15T18:59:29.435333Z",
     "start_time": "2018-11-15T18:59:29.430169Z"
    }
   },
   "outputs": [],
   "source": [
    "relevant[1][-10:]"
   ]
  },
  {
   "cell_type": "code",
   "execution_count": null,
   "metadata": {
    "ExecuteTime": {
     "end_time": "2018-11-15T19:30:56.240855Z",
     "start_time": "2018-11-15T19:30:56.235928Z"
    }
   },
   "outputs": [],
   "source": [
    "labels_relevant.shape"
   ]
  },
  {
   "cell_type": "code",
   "execution_count": null,
   "metadata": {
    "ExecuteTime": {
     "end_time": "2018-11-15T19:29:33.730960Z",
     "start_time": "2018-11-15T19:29:33.725530Z"
    }
   },
   "outputs": [],
   "source": [
    "labels_relevant[0]"
   ]
  },
  {
   "cell_type": "code",
   "execution_count": null,
   "metadata": {
    "ExecuteTime": {
     "end_time": "2018-11-15T19:37:22.773243Z",
     "start_time": "2018-11-15T19:37:22.768211Z"
    }
   },
   "outputs": [],
   "source": [
    "target_novel = labels_relevant[0]"
   ]
  },
  {
   "cell_type": "code",
   "execution_count": null,
   "metadata": {
    "ExecuteTime": {
     "end_time": "2018-11-15T19:37:28.876098Z",
     "start_time": "2018-11-15T19:37:28.868040Z"
    }
   },
   "outputs": [],
   "source": [
    "target_novel.shape"
   ]
  },
  {
   "cell_type": "code",
   "execution_count": null,
   "metadata": {
    "ExecuteTime": {
     "end_time": "2018-11-15T19:29:44.558284Z",
     "start_time": "2018-11-15T19:29:44.549845Z"
    }
   },
   "outputs": [],
   "source": [
    "np.where(target_novel == True)"
   ]
  },
  {
   "cell_type": "code",
   "execution_count": null,
   "metadata": {
    "ExecuteTime": {
     "end_time": "2018-11-15T19:32:06.189417Z",
     "start_time": "2018-11-15T19:32:06.180188Z"
    }
   },
   "outputs": [],
   "source": [
    "relevant[9]"
   ]
  },
  {
   "cell_type": "code",
   "execution_count": null,
   "metadata": {
    "ExecuteTime": {
     "end_time": "2018-11-15T18:59:44.221262Z",
     "start_time": "2018-11-15T18:59:44.216063Z"
    }
   },
   "outputs": [],
   "source": [
    "imagenet_taxonomy['is_ancestor_mat'][1002, 1383]"
   ]
  },
  {
   "cell_type": "code",
   "execution_count": null,
   "metadata": {
    "ExecuteTime": {
     "end_time": "2018-11-14T17:14:49.433110Z",
     "start_time": "2018-11-14T17:14:49.428027Z"
    }
   },
   "outputs": [],
   "source": [
    "len(imagenet_taxonomy['wnids_leaf'])"
   ]
  },
  {
   "cell_type": "code",
   "execution_count": null,
   "metadata": {
    "ExecuteTime": {
     "end_time": "2018-11-14T17:14:55.969667Z",
     "start_time": "2018-11-14T17:14:55.964272Z"
    }
   },
   "outputs": [],
   "source": [
    "len(imagenet_taxonomy['wnids'])"
   ]
  },
  {
   "cell_type": "code",
   "execution_count": null,
   "metadata": {
    "ExecuteTime": {
     "end_time": "2018-11-14T17:24:42.903994Z",
     "start_time": "2018-11-14T17:24:42.898790Z"
    }
   },
   "outputs": [],
   "source": [
    "len(imagenet_taxonomy['wnid_groups'])"
   ]
  },
  {
   "cell_type": "code",
   "execution_count": null,
   "metadata": {
    "ExecuteTime": {
     "end_time": "2018-11-14T17:24:57.831152Z",
     "start_time": "2018-11-14T17:24:57.821958Z"
    }
   },
   "outputs": [],
   "source": [
    "len(imagenet_taxonomy['wnid_parents'])"
   ]
  },
  {
   "cell_type": "code",
   "execution_count": null,
   "metadata": {
    "ExecuteTime": {
     "end_time": "2018-11-14T17:25:12.717602Z",
     "start_time": "2018-11-14T17:25:12.712048Z"
    }
   },
   "outputs": [],
   "source": [
    "len(imagenet_taxonomy['wnid_children'])"
   ]
  },
  {
   "cell_type": "code",
   "execution_count": null,
   "metadata": {
    "ExecuteTime": {
     "end_time": "2018-11-14T17:26:58.896479Z",
     "start_time": "2018-11-14T17:26:58.891226Z"
    }
   },
   "outputs": [],
   "source": [
    "len(imagenet_taxonomy['wnids_raw'])"
   ]
  },
  {
   "cell_type": "code",
   "execution_count": null,
   "metadata": {
    "ExecuteTime": {
     "end_time": "2018-11-14T17:15:27.291248Z",
     "start_time": "2018-11-14T17:15:27.282773Z"
    }
   },
   "outputs": [],
   "source": [
    "len(imagenet_taxonomy['wnids_novel'])"
   ]
  },
  {
   "cell_type": "code",
   "execution_count": null,
   "metadata": {
    "ExecuteTime": {
     "end_time": "2018-11-14T17:15:47.810551Z",
     "start_time": "2018-11-14T17:15:47.804935Z"
    }
   },
   "outputs": [],
   "source": [
    "imagenet_taxonomy['wnid_root']"
   ]
  },
  {
   "cell_type": "code",
   "execution_count": null,
   "metadata": {
    "ExecuteTime": {
     "end_time": "2018-11-14T17:16:23.505380Z",
     "start_time": "2018-11-14T17:16:23.500213Z"
    }
   },
   "outputs": [],
   "source": [
    "imagenet_taxonomy['is_parent_mat'].shape"
   ]
  },
  {
   "cell_type": "code",
   "execution_count": null,
   "metadata": {
    "ExecuteTime": {
     "end_time": "2018-11-14T17:27:46.216969Z",
     "start_time": "2018-11-14T17:27:46.189467Z"
    }
   },
   "outputs": [],
   "source": [
    "imagenet_taxonomy['wnid_groups']"
   ]
  },
  {
   "cell_type": "code",
   "execution_count": null,
   "metadata": {
    "ExecuteTime": {
     "end_time": "2018-11-14T18:04:08.688782Z",
     "start_time": "2018-11-14T18:04:08.680521Z"
    }
   },
   "outputs": [],
   "source": [
    "'n01484850' in imagenet_taxonomy['wnids_leaf']"
   ]
  },
  {
   "cell_type": "code",
   "execution_count": null,
   "metadata": {
    "ExecuteTime": {
     "end_time": "2018-11-14T18:11:45.227264Z",
     "start_time": "2018-11-14T18:11:45.210161Z"
    }
   },
   "outputs": [],
   "source": [
    "num_super = 0\n",
    "for k, g in imagenet_taxonomy['wnid_groups'].items():\n",
    "    if len(g) > 1 and k not in imagenet_taxonomy['wnids_leaf']:\n",
    "        #assert(k not in imagenet_taxonomy['wnids_leaf'], print(k))\n",
    "        num_super += 1\n",
    "        print(k, g)"
   ]
  },
  {
   "cell_type": "code",
   "execution_count": null,
   "metadata": {
    "ExecuteTime": {
     "end_time": "2018-11-14T18:11:46.501441Z",
     "start_time": "2018-11-14T18:11:46.494463Z"
    }
   },
   "outputs": [],
   "source": [
    "num_super"
   ]
  },
  {
   "cell_type": "code",
   "execution_count": null,
   "metadata": {
    "ExecuteTime": {
     "end_time": "2018-11-14T17:29:04.091012Z",
     "start_time": "2018-11-14T17:29:04.084003Z"
    }
   },
   "outputs": [],
   "source": [
    "imagenet_taxonomy['wnid_groups']['n01483522']"
   ]
  },
  {
   "cell_type": "code",
   "execution_count": null,
   "metadata": {
    "ExecuteTime": {
     "end_time": "2018-11-14T17:28:24.382459Z",
     "start_time": "2018-11-14T17:28:24.371210Z"
    }
   },
   "outputs": [],
   "source": [
    "imagenet_taxonomy['wnids_raw']"
   ]
  },
  {
   "cell_type": "code",
   "execution_count": null,
   "metadata": {
    "ExecuteTime": {
     "end_time": "2018-11-15T19:18:56.729630Z",
     "start_time": "2018-11-15T19:18:56.723625Z"
    }
   },
   "outputs": [],
   "source": [
    "from folder import make_dataset"
   ]
  },
  {
   "cell_type": "code",
   "execution_count": null,
   "metadata": {
    "ExecuteTime": {
     "end_time": "2018-11-15T19:19:39.105989Z",
     "start_time": "2018-11-15T19:19:39.078111Z"
    }
   },
   "outputs": [],
   "source": [
    "imgs = make_dataset('ImageNet', 'known')"
   ]
  },
  {
   "cell_type": "code",
   "execution_count": null,
   "metadata": {
    "ExecuteTime": {
     "end_time": "2018-11-15T19:19:43.552809Z",
     "start_time": "2018-11-15T19:19:43.547312Z"
    }
   },
   "outputs": [],
   "source": [
    "len(imgs)"
   ]
  },
  {
   "cell_type": "code",
   "execution_count": null,
   "metadata": {
    "ExecuteTime": {
     "end_time": "2018-11-15T19:19:47.461820Z",
     "start_time": "2018-11-15T19:19:47.456401Z"
    }
   },
   "outputs": [],
   "source": [
    "imgs[100]"
   ]
  },
  {
   "cell_type": "code",
   "execution_count": null,
   "metadata": {
    "ExecuteTime": {
     "end_time": "2018-11-15T19:20:49.029640Z",
     "start_time": "2018-11-15T19:20:49.023993Z"
    }
   },
   "outputs": [],
   "source": [
    "path = 'taxonomy/ImageNet/images_novel.txt'"
   ]
  },
  {
   "cell_type": "code",
   "execution_count": null,
   "metadata": {
    "ExecuteTime": {
     "end_time": "2018-11-15T19:20:59.107980Z",
     "start_time": "2018-11-15T19:20:58.950845Z"
    }
   },
   "outputs": [],
   "source": [
    "images_list = open(path, 'r').read().strip().replace('\\t', '\\n').splitlines()"
   ]
  },
  {
   "cell_type": "code",
   "execution_count": null,
   "metadata": {
    "ExecuteTime": {
     "end_time": "2018-11-15T19:21:52.095698Z",
     "start_time": "2018-11-15T19:21:52.080313Z"
    }
   },
   "outputs": [],
   "source": [
    "len(images_list[1::2])"
   ]
  },
  {
   "cell_type": "code",
   "execution_count": null,
   "metadata": {
    "ExecuteTime": {
     "end_time": "2018-11-15T19:23:00.288346Z",
     "start_time": "2018-11-15T19:23:00.282780Z"
    }
   },
   "outputs": [],
   "source": [
    "from folder import find_classes"
   ]
  },
  {
   "cell_type": "code",
   "execution_count": null,
   "metadata": {
    "ExecuteTime": {
     "end_time": "2018-11-15T19:23:16.169367Z",
     "start_time": "2018-11-15T19:23:16.158849Z"
    }
   },
   "outputs": [],
   "source": [
    "classes = find_classes('ImageNet', 'novel')"
   ]
  },
  {
   "cell_type": "code",
   "execution_count": null,
   "metadata": {
    "ExecuteTime": {
     "end_time": "2018-11-15T19:23:30.299818Z",
     "start_time": "2018-11-15T19:23:30.294677Z"
    }
   },
   "outputs": [],
   "source": [
    "len(classes)"
   ]
  },
  {
   "cell_type": "code",
   "execution_count": null,
   "metadata": {},
   "outputs": [],
   "source": []
  }
 ],
 "metadata": {
  "kernelspec": {
   "display_name": "Python 3",
   "language": "python",
   "name": "python3"
  },
  "language_info": {
   "codemirror_mode": {
    "name": "ipython",
    "version": 3
   },
   "file_extension": ".py",
   "mimetype": "text/x-python",
   "name": "python",
   "nbconvert_exporter": "python",
   "pygments_lexer": "ipython3",
   "version": "3.6.6"
  }
 },
 "nbformat": 4,
 "nbformat_minor": 2
}
